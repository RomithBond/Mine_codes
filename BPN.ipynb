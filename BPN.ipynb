{
  "cells": [
    {
      "cell_type": "code",
      "execution_count": null,
      "metadata": {
        "colab": {
          "base_uri": "https://localhost:8080/"
        },
        "id": "gT1QzpLWTCaB",
        "outputId": "c39604aa-03c9-419d-a94d-f78cf1cf3a0d"
      },
      "outputs": [
        {
          "output_type": "stream",
          "name": "stderr",
          "text": [
            "/usr/local/lib/python3.10/dist-packages/sklearn/datasets/_openml.py:968: FutureWarning: The default value of `parser` will change from `'liac-arff'` to `'auto'` in 1.4. You can set `parser='auto'` to silence this warning. Therefore, an `ImportError` will be raised from 1.4 if the dataset is dense and pandas is not installed. Note that the pandas parser may return different data types. See the Notes Section in fetch_openml's API doc for details.\n",
            "  warn(\n"
          ]
        }
      ],
      "source": [
        "import subprocess\n",
        "from sklearn.datasets import fetch_openml\n",
        "from sklearn.model_selection import train_test_split\n",
        "import numpy as np\n",
        "try:\n",
        "    import google.colab\n",
        "    subprocess.run(['python', '-m', 'pip', 'install', 'skorch' , 'torch'])\n",
        "except ImportError:\n",
        "    pass\n",
        "\n",
        "mnist = fetch_openml('mnist_784', as_frame=False, cache=False)\n",
        "\n",
        "mnist.data.shape\n",
        "X = mnist.data.astype('float32')\n",
        "y = mnist.target.astype('int64')\n",
        "X /= 255.0\n",
        "X.min(), X.max()\n",
        "X_train, X_val, y_train, y_val = train_test_split(X, y, test_size=0.25, random_state=42)\n"
      ]
    },
    {
      "cell_type": "code",
      "execution_count": null,
      "metadata": {
        "colab": {
          "base_uri": "https://localhost:8080/"
        },
        "id": "vTp_0Z420gf4",
        "outputId": "e3517b87-3508-45a6-c82e-dcb2d676cf16"
      },
      "outputs": [
        {
          "output_type": "stream",
          "name": "stdout",
          "text": [
            "[[ 0.37 -0.93 -0.6  ...  0.28  0.28  1.  ]\n",
            " [ 0.4  -0.31 -0.89 ...  0.48  0.95 -0.91]\n",
            " [-0.96 -0.04 -0.37 ...  0.81  0.64  0.08]\n",
            " ...\n",
            " [ 0.27  0.43 -0.26 ... -0.27  0.89  0.65]\n",
            " [-0.27  0.87 -0.55 ...  0.43 -0.88 -0.77]\n",
            " [-0.12  0.65 -0.55 ...  0.64 -0.65 -0.07]]\n"
          ]
        }
      ],
      "source": [
        "import numpy as np\n",
        "from scipy.special import softmax\n",
        "\n",
        "# Define the sigmoid activation function and its derivative\n",
        "def sigmoid(x):\n",
        "    return 1 / (1 + np.exp(-x))\n",
        "\n",
        "def sigmoid_derivative(x):\n",
        "    return x * (1 - x)\n",
        "\n",
        "# Define the softmax derivative\n",
        "def softmax_derivative(x):\n",
        "    s = softmax(x)\n",
        "    return s * (1 - s)\n",
        "\n",
        "# Create a neural network class\n",
        "class NeuralNetwork:\n",
        "    def __init__(self, input_size, hidden_size_1,hidden_size_2, output_size):\n",
        "        self.input_size = input_size\n",
        "        self.hidden_size_1 = hidden_size_1\n",
        "        self.hidden_size_2 = hidden_size_2\n",
        "        self.output_size = output_size\n",
        "\n",
        "        # Initialize weights and biases\n",
        "        self.weights_input_hidden_1 = np.random.uniform(low=-1, high=1, size=(self.input_size,self.hidden_size_1))\n",
        "        self.weights_input_hidden_1=np.around(self.weights_input_hidden_1, decimals=2, out=None)\n",
        "        self.bias_hidden_1 = np.random.rand(1, self.hidden_size_1)\n",
        "        self.bias_hidden_1=np.around(self.bias_hidden_1, decimals=2, out=None)\n",
        "        self.weights_hidden1_hidden2 = np.random.uniform(low=-1, high=1, size=(self.hidden_size_1, self.hidden_size_2))\n",
        "        self.weights_hidden1_hidden2=np.around(self.weights_hidden1_hidden2, decimals=2, out=None)\n",
        "        self.bias_hidden_2 = np.random.rand(1, self.hidden_size_2)\n",
        "        self.bias_hidden_2=np.around(self.bias_hidden_2, decimals=2, out=None)\n",
        "        self.weights_hidden_2_output = np.random.uniform(low=-1, high=1, size=(self.hidden_size_2, self.output_size))\n",
        "        self.weights_hidden_2_output=np.around(self.weights_hidden_2_output, decimals=2, out=None)\n",
        "        self.bias_output = np.random.rand(1, self.output_size)\n",
        "        self.bias_output=np.around(self.bias_output, decimals=2, out=None)\n",
        "        print(self.weights_input_hidden_1)\n",
        "\n",
        "    def feedforward(self, X):\n",
        "\n",
        "        # Input to hidden_1 layer\n",
        "        self.hidden_1_input = np.dot(X, self.weights_input_hidden_1) + self.bias_hidden_1\n",
        "        # print(self.hidden_1_input)\n",
        "        self.hidden_1_output = sigmoid(self.hidden_1_input)\n",
        "        # print(self.hidden_1_output)\n",
        "        # Hidden_1 to hidden_2\n",
        "        self.hidden_2_input = np.dot(self.hidden_1_output, self.weights_hidden1_hidden2 ) + self.bias_hidden_2\n",
        "\n",
        "        self.hidden_2_output = sigmoid(self.hidden_2_input)\n",
        "\n",
        "        # Hidden_2 to output layer\n",
        "        self.output_input = np.dot(self.hidden_2_output, self.weights_hidden_2_output) + self.bias_output\n",
        "        self.output=softmax(self.output_input)\n",
        "        self.output=np.around(self.output, decimals=2, out=None)\n",
        "        self.output=self.output.flatten()\n",
        "        self.temp=self.weights_hidden_2_output\n",
        "\n",
        "    def backpropagate(self, X, y, learning_rate):\n",
        "\n",
        "        # Calculate the output layer error and delta using softmax_derivative\n",
        "        output_error = y - self.output\n",
        "        output_delta = output_error * softmax_derivative(self.output)\n",
        "        # Calculate the hidden layer error and delta\n",
        "        hidden_2_error = output_delta.dot(self.weights_hidden_2_output.T)\n",
        "        #print(hidden_2_error)\n",
        "\n",
        "\n",
        "\n",
        "        #print(sigmoid_derivative(self.hidden_2_output))\n",
        "        hidden_2_delta = hidden_2_error * sigmoid_derivative(self.hidden_2_output)\n",
        "\n",
        "        hidden_1_error = hidden_2_delta.dot(self.weights_hidden1_hidden2.T)\n",
        "        hidden_1_delta = hidden_1_error * sigmoid_derivative(self.hidden_1_output)\n",
        "        # print(output_delta)\n",
        "        # print(output_delta.shape)\n",
        "        #print(hidden_2_delta)\n",
        "        #print(hidden_2_delta.shape)\n",
        "        # print(hidden_1_delta)\n",
        "        # print(hidden_1_delta.shape)\n",
        "        # Update weights and biases\n",
        "        self.weights_hidden_2_output = self.weights_hidden_2_output + (self.hidden_2_output.dot(output_delta) * learning_rate)\n",
        "        self.bias_output = self.bias_output + (np.sum(output_delta, axis=0, keepdims=True) * learning_rate)\n",
        "\n",
        "        hidden_2_delta=np.array(hidden_2_delta)\n",
        "        self.hidden_1_output=np.array(self.hidden_1_output)\n",
        "        self.hidden_1_output_new=self.hidden_1_output.reshape((1,128))\n",
        "        self.hidden_1_output=self.hidden_1_output_new.T\n",
        "        self.weights_hidden1_hidden2 = self.weights_hidden1_hidden2 + (self.hidden_1_output.dot(hidden_2_delta) * learning_rate)\n",
        "        self.bias_hidden_2 = self.bias_hidden_2 + (np.sum(hidden_2_delta, axis=0, keepdims=True) * learning_rate)\n",
        "\n",
        "        hidden_1_delta=np.array(hidden_1_delta)\n",
        "        X=np.array(X)\n",
        "        X_new=X.reshape((1,784))\n",
        "        X=X_new.T\n",
        "        self.weights_input_hidden_1 = self.weights_input_hidden_1 + (X.dot(hidden_1_delta) * learning_rate)\n",
        "        self.bias_hidden_1 = self.bias_hidden_1 + (np.sum(hidden_1_delta, axis=0, keepdims=True) * learning_rate)\n",
        "        comparison = self.temp == self.weights_hidden_2_output\n",
        "        equal_arrays = comparison.all()\n",
        "        #print(equal_arrays)\n",
        "    def train(self, X, y, learning_rate):\n",
        "      self.feedforward(X)\n",
        "      self.backpropagate(X, y, learning_rate)\n",
        "      #print(y,self.output)\n",
        "\n",
        "\n",
        "\n",
        "    def predict(self, X):\n",
        "        self.feedforward(X)\n",
        "        self.output=np.around(self.output, decimals=2, out=None)\n",
        "        return self.output\n",
        "# Example usage:\n",
        "# Set random seed for reproducibility\n",
        "\n",
        "\n",
        "# Define network parameters\n",
        "input_size = 784\n",
        "hidden_size_1 = 128\n",
        "hidden_size_2 = 10\n",
        "output_size = 10  # For digit recognition (0-9)\n",
        "\n",
        "# Create the neural network\n",
        "nn = NeuralNetwork(input_size, hidden_size_1,hidden_size_2, output_size)\n",
        "\n",
        "# Train the neural network\n",
        "\n",
        "y=np.zeros((len(y_train),10))\n",
        "\n",
        "for i in range(0,y_train.shape[0]):\n",
        "  j=y_train[i]\n",
        "  y[i][j]=1\n",
        "\n",
        "\n",
        "\n",
        "\n"
      ]
    },
    {
      "cell_type": "code",
      "execution_count": null,
      "metadata": {
        "id": "6Qs-TjDx0hY_"
      },
      "outputs": [],
      "source": [
        "def calculate_accuracy(predictions, actual_labels):\n",
        "    correct = 0\n",
        "    for i in range(len(predictions)):\n",
        "        if predictions[i] == actual_labels[i]:\n",
        "            correct = correct + 1\n",
        "    return correct / len(predictions)\n"
      ]
    },
    {
      "cell_type": "code",
      "execution_count": null,
      "metadata": {
        "colab": {
          "base_uri": "https://localhost:8080/"
        },
        "id": "mNFJ4NSr0jqw",
        "outputId": "02626b9c-eee2-4f78-a7da-d65500a16d91"
      },
      "outputs": [
        {
          "output_type": "stream",
          "name": "stdout",
          "text": [
            "Accuracy: 25.51%\n"
          ]
        }
      ],
      "source": [
        "for i in range(0,100):\n",
        "  for i in range(0,len(X_train)):\n",
        "    nn.train(X_train[i], y[i], learning_rate=0.1)\n",
        "\n",
        "\n",
        "pred=np.zeros(len(y_val))\n",
        "for i in range(0,len(X_val)):\n",
        "  predictions = nn.predict(X_val[i])\n",
        "  pred[i]=np.argmax(predictions.flatten())\n",
        "\n",
        "accuracy=calculate_accuracy(pred,y_val)\n",
        "print(f\"Accuracy: {accuracy * 100:.2f}%\")"
      ]
    },
    {
      "cell_type": "code",
      "execution_count": null,
      "metadata": {
        "colab": {
          "base_uri": "https://localhost:8080/",
          "height": 524
        },
        "id": "mNcCp2znwhDp",
        "outputId": "d92a1366-b042-45f3-9b83-af4e167673c1"
      },
      "outputs": [
        {
          "output_type": "stream",
          "name": "stdout",
          "text": [
            "(28, 28)\n",
            "(784,)\n"
          ]
        },
        {
          "output_type": "display_data",
          "data": {
            "text/plain": [
              "<Figure size 640x480 with 1 Axes>"
            ],
            "image/png": "[encoded data removed]"
          },
          "metadata": {}
        },
        {
          "output_type": "stream",
          "name": "stdout",
          "text": [
            "5\n"
          ]
        },
        {
          "output_type": "stream",
          "name": "stderr",
          "text": [
            "<ipython-input-3-41d6f942d873>:6: RuntimeWarning: overflow encountered in exp\n",
            "  return 1 / (1 + np.exp(-x))\n"
          ]
        }
      ],
      "source": [
        "import cv2\n",
        "import numpy as np\n",
        "\n",
        "# Load the image (replace 'input_image.png' with your image path)\n",
        "image_path = '/content/WhatsApp Image 2023-10-26 at 22.15.27_f957a7f1.jpg'\n",
        "img = cv2.imread(image_path)\n",
        "img=cv2.cvtColor(img, cv2.COLOR_BGR2GRAY)\n",
        "# Apply binary thresholding to the image (adjust the threshold value as needed)\n",
        "threshold_value = 100  # You can adjust this threshold value\n",
        "_, binary_img = cv2.threshold(img, threshold_value, 255, cv2.THRESH_BINARY)\n",
        "\n",
        "# Resize the binary image to 28x28 pixels (MNIST image size)\n",
        "binary_img = cv2.resize(binary_img, (28, 28))\n",
        "\n",
        "# Ensure the data type is consistent with the MNIST dataset (typically uint8)\n",
        "binary_img = binary_img.astype(np.uint8)\n",
        "\n",
        "# Invert the binary image\n",
        "inverted_img = 255 - binary_img\n",
        "\n",
        "# Resize the inverted image to 28x28 pixels (MNIST image size)\n",
        "inverted_img = cv2.resize(inverted_img, (28, 28))\n",
        "\n",
        "# Ensure the data type is consistent with the MNIST dataset (typically uint8)\n",
        "inverted_img = inverted_img.astype(np.uint8)\n",
        "print(inverted_img.shape)\n",
        "# Flatten the 28x28 inverted image to a 1D array\n",
        "flattened_array = inverted_img.reshape(-1)\n",
        "print(flattened_array.shape)\n",
        "import matplotlib.pyplot as plt\n",
        "plt.imshow(inverted_img, cmap='gray')\n",
        "plt.show()\n",
        "#testing\n",
        "predictions = nn.predict(flattened_array)\n",
        "prediction=np.argmax(predictions.flatten())\n",
        "print(prediction)"
      ]
    },
    {
      "cell_type": "code",
      "execution_count": null,
      "metadata": {
        "colab": {
          "base_uri": "https://localhost:8080/",
          "height": 486
        },
        "id": "xRVGM-5qKRcd",
        "outputId": "729f5768-037a-4ffd-9104-3920a16369cf"
      },
      "outputs": [
        {
          "output_type": "display_data",
          "data": {
            "text/plain": [
              "<Figure size 640x480 with 1 Axes>"
            ],
            "image/png": "[encoded data removed]"
          },
          "metadata": {}
        },
        {
          "output_type": "stream",
          "name": "stdout",
          "text": [
            "5\n"
          ]
        },
        {
          "output_type": "stream",
          "name": "stderr",
          "text": [
            "<ipython-input-3-41d6f942d873>:6: RuntimeWarning: overflow encountered in exp\n",
            "  return 1 / (1 + np.exp(-x))\n"
          ]
        }
      ],
      "source": [
        "import cv2\n",
        "import numpy as np\n",
        "\n",
        "# Load the image (replace 'input_image.png' with your image path)\n",
        "image_path = '/content/WhatsApp Image 2023-10-26 at 22.15.27_f957a7f1.jpg'\n",
        "img = cv2.imread(image_path)\n",
        "img=cv2.cvtColor(img, cv2.COLOR_BGR2GRAY)\n",
        "# Apply binary thresholding to the image (adjust the threshold value as needed)\n",
        "threshold_value = 100  # You can adjust this threshold value\n",
        "_, binary_img = cv2.threshold(img, threshold_value, 255, cv2.THRESH_BINARY)\n",
        "\n",
        "# Resize the binary image to 28x28 pixels (MNIST image size)\n",
        "binary_img = cv2.resize(binary_img, (28, 28))\n",
        "\n",
        "# Ensure the data type is consistent with the MNIST dataset (typically uint8)\n",
        "binary_img = binary_img.astype(np.uint8)\n",
        "\n",
        "# Invert the binary image\n",
        "inverted_img = 255 - binary_img\n",
        "\n",
        "# Resize the inverted image to 28x28 pixels (MNIST image size)\n",
        "inverted_img = cv2.resize(inverted_img, (28, 28))\n",
        "\n",
        "# Ensure the data type is consistent with the MNIST dataset (typically uint8)\n",
        "inverted_img = inverted_img.astype(np.uint8)\n",
        "\n",
        "# Flatten the 28x28 inverted image to a 1D array\n",
        "flattened_array = inverted_img.reshape(-1)\n",
        "\n",
        "import matplotlib.pyplot as plt\n",
        "plt.imshow(inverted_img, cmap='gray')\n",
        "plt.show()\n",
        "#testing\n",
        "predictions = nn.predict(flattened_array)\n",
        "prediction=np.argmax(predictions.flatten())\n",
        "print(prediction)"
      ]
    }
  ],
  "metadata": {
    "colab": {
      "provenance": []
    },
    "kernelspec": {
      "display_name": "Python 3",
      "name": "python3"
    },
    "language_info": {
      "name": "python"
    }
  },
  "nbformat": 4,
  "nbformat_minor": 0
}